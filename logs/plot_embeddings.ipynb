{
 "cells": [
  {
   "attachments": {},
   "cell_type": "markdown",
   "metadata": {},
   "source": [
    "# Plots for the embeddings"
   ]
  },
  {
   "cell_type": "code",
   "execution_count": 51,
   "metadata": {},
   "outputs": [],
   "source": [
    "from suppl import save_fig\n",
    "import numpy as np\n",
    "import pandas as pd\n",
    "import seaborn as sns\n",
    "import matplotlib.pyplot as plt\n",
    "from sklearn.manifold import TSNE\n",
    "from sklearn.decomposition import PCA\n",
    "\n",
    "plt.rcParams[\"font.family\"] = \"serif\"\n",
    "plt.rcParams[\"font.serif\"] = [\"Times New Roman\"]"
   ]
  },
  {
   "attachments": {},
   "cell_type": "markdown",
   "metadata": {},
   "source": [
    "## Reading embeddings"
   ]
  },
  {
   "cell_type": "code",
   "execution_count": 52,
   "metadata": {},
   "outputs": [],
   "source": [
    "file_names = [\n",
    "    './embeddings/enn_end_embeddings_untrained_2023-05-05_22-54.csv',\n",
    "    './embeddings/enn_end_embeddings_trained_999_2023-05-05_22-54.csv'\n",
    "]\n",
    "\n",
    "file_names = [\n",
    "    './embeddings/enn_action_embeddings_untrained_2023-05-05_22-54.csv',\n",
    "    './embeddings/enn_action_embeddings_trained_999_2023-05-05_22-54.csv'\n",
    "]\n",
    "\n",
    "file_names = [\n",
    "    './embeddings/gcnn_end_embeddings_untrained_2023-05-05_15-03.csv',\n",
    "    './embeddings/gcnn_end_embeddings_trained_999_2023-05-05_15-03.csv',\n",
    "]\n",
    "\n",
    "file_names = [\n",
    "    './embeddings/gcnn_action_embeddings_untrained_2023-05-05_15-03.csv',\n",
    "    './embeddings/gcnn_action_embeddings_trained_999_2023-05-05_15-03.csv',\n",
    "]\n",
    "\n",
    "architecture = file_names[0].split('/')[2].split('_')[0]\n",
    "model = file_names[0].split('/')[2].split('_')[1]\n",
    "timestamp = '_'.join(file_names[0].split('/')[2].split('.')[0].split('_')[-2:])\n",
    "\n",
    "dfs = [pd.read_csv(x, sep='\\t', header=None, index_col=None) for x in file_names]"
   ]
  },
  {
   "cell_type": "code",
   "execution_count": 53,
   "metadata": {},
   "outputs": [
    {
     "name": "stdout",
     "output_type": "stream",
     "text": [
      "Saving figure embeddings_before_after_action_gcnn_2023-05-05_15-03\n"
     ]
    },
    {
     "data": {
      "image/png": "[encoded data removed]",
      "text/plain": [
       "<Figure size 720x360 with 2 Axes>"
      ]
     },
     "metadata": {
      "needs_background": "light"
     },
     "output_type": "display_data"
    }
   ],
   "source": [
    "X_embedded_before = TSNE(n_components=2, learning_rate='auto', init='random', perplexity=3, n_iter=1000, random_state=8).fit_transform(dfs[0])\n",
    "X_embedded_after = TSNE(n_components=2, learning_rate='auto', init='random', perplexity=3, n_iter=1000, random_state=42).fit_transform(dfs[1])\n",
    "\n",
    "plt.figure(figsize=(10, 5))\n",
    "plt.subplot(1, 2, 1)\n",
    "plt.title('Untrained', size=16)\n",
    "plt.tick_params(axis='both', which='major', labelsize=13)\n",
    "plt.scatter(X_embedded_before[:, 0], X_embedded_before[:, 1])\n",
    "plt.xlabel('$Component_1$', size=13)\n",
    "plt.ylabel('$Component_2$', size=13)\n",
    "\n",
    "plt.subplot(1, 2, 2)\n",
    "plt.title('Trained', size=16)\n",
    "plt.tick_params(axis='both', which='major', labelsize=13)\n",
    "plt.scatter(X_embedded_after[:, 0], X_embedded_after[:, 1])\n",
    "plt.xlabel('$Component_1$', size=13)\n",
    "plt.ylabel('$Component_2$', size=13)\n",
    "save_fig(f'embeddings_before_after_{model}_{architecture}_{timestamp}')\n",
    "plt.show()"
   ]
  }
 ],
 "metadata": {
  "kernelspec": {
   "display_name": "Python 3",
   "language": "python",
   "name": "python3"
  },
  "language_info": {
   "codemirror_mode": {
    "name": "ipython",
    "version": 3
   },
   "file_extension": ".py",
   "mimetype": "text/x-python",
   "name": "python",
   "nbconvert_exporter": "python",
   "pygments_lexer": "ipython3",
   "version": "3.10.6"
  },
  "orig_nbformat": 4
 },
 "nbformat": 4,
 "nbformat_minor": 2
}
